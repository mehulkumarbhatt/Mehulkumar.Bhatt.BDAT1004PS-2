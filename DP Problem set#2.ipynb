{
 "cells": [
  {
   "cell_type": "markdown",
   "metadata": {},
   "source": [
    "# BDAT 1004- DATA PROGRAMMING\n",
    "\n",
    "PROBLEM SET-2"
   ]
  },
  {
   "cell_type": "markdown",
   "metadata": {},
   "source": [
    "## Question 1\n",
    "Consider the following Python module:\n",
    "a = 0\n",
    "def b():\n",
    "global a\n",
    "a = c(a)\n",
    "def c(a):\n",
    "return a + 2\n",
    "After importing the module into the interpreter, you execute:\n",
    "b()\n",
    "b()b()\n",
    "a\n",
    "?\n",
    "What value is displayed when the last expression (a) is evaluated? Explain your answer by indicating what happens in every executed statement."
   ]
  },
  {
   "cell_type": "code",
   "execution_count": null,
   "metadata": {},
   "outputs": [],
   "source": [
    "a = 0\n",
    "def b():      # HERE DEFINING FUNCTION 'b'\n",
    "    global a  # 'a' IS A GLOBAL VARIABLE\n",
    "    a = c(a)  # WHILE CALLING FUNCTION 'b', c(a) WILL GIVE THE VALUE OF 'b'\n",
    "def c(a):     # HERE DEFINING FUNCTION 'c', WHICH RETURNS 'a' AS 0+2\n",
    "     return a + 2 \n",
    "b()           # FIRST OF ALL, AFTER EXECUTING FUNCTION 'b' HERE, THE VALUE OF 'a' WHICH IS '0' IS INCREASED TO \n",
    "b()           # BY PERFORMING THE SAME FUNCTION AGAIN THE VALUE OF 'a' IS INCREASED BY 2 MORE AND NOW a = 4\n",
    "b()           # THIRD TIME DOING THE SAME FUNCTION AGAIN WHICH RESULTS IN INCREASING VALUE OF 'a' TO 6\n",
    "print(a)"
   ]
  },
  {
   "cell_type": "markdown",
   "metadata": {},
   "source": [
    "## Question 2 \n",
    "Function fileLength(), given to you, takes the name of a file as input and returns the length of the file:\n",
    "As shown above, if the file cannot be found by the interpreter or if it cannot be read as a text file, an exception will be raised. Modify function fileLength() so that a friendly message is printed instead:    \n",
    "\n"
   ]
  },
  {
   "cell_type": "code",
   "execution_count": 41,
   "metadata": {},
   "outputs": [],
   "source": [
    "def fileLength(file):                #FUNCTION 'FILELENGTH' GIVES YOU LENGTH OF THE FILE\n",
    "    try:\n",
    "        file = open(file)            \n",
    "        contents = file.read()\n",
    "        file.close()\n",
    "        print(len(contents))\n",
    "    except:\n",
    "        print('File ' +file+ ' not found')"
   ]
  },
  {
   "cell_type": "code",
   "execution_count": 40,
   "metadata": {},
   "outputs": [
    {
     "name": "stdout",
     "output_type": "stream",
     "text": [
      "53549\n"
     ]
    }
   ],
   "source": [
    "fileLength('DMT Lab#2.ipynb')       # CHECKING THE FILE LENGTH OF THE PARTICULAR FILE"
   ]
  },
  {
   "cell_type": "code",
   "execution_count": 42,
   "metadata": {},
   "outputs": [
    {
     "name": "stdout",
     "output_type": "stream",
     "text": [
      "File DMT Lab#1.ipynb not found\n"
     ]
    }
   ],
   "source": [
    "fileLength('DMT Lab#1.ipynb')       # CHECKING THIS PARTICLUAR FILE'S LENGTH BUT THE RESULT SHOWS SUCH FILE DOES NOT EXIST"
   ]
  },
  {
   "cell_type": "markdown",
   "metadata": {},
   "source": [
    "## Question 3 \n",
    "Write a class named Marsupial that can be used as shown below: \n",
    "\n",
    "Now write a class named Kangaroo as a subclass of Marsupial that inherits all the attributes of Marsupial and also:\n",
    "a. extends the Marsupial __init__ constructor to take, as input, the coordinates x and y of the Kangaroo object,\n",
    "b. supports method jump that takes number values dx and dy as input and moves the kangaroo by dx units along the x-axis and by dy units along the y-axis, and\n",
    "c. overloads the __str__ operator so it behaves as shown below."
   ]
  },
  {
   "cell_type": "code",
   "execution_count": 44,
   "metadata": {},
   "outputs": [],
   "source": [
    "class Marsupial:\n",
    "    def __init__(self):\n",
    "        self.data = []\n",
    "    def put_in_pouch(self, item):\n",
    "            self.data.append(item)\n",
    "    def pouch_contents(self):\n",
    "        return self.data\n",
    "\n",
    "class kangaroo(Marsupial):    #HERE A CLASS 'KANGAROO' IS DEFINED\n",
    "    def __init__(self,x,y):\n",
    "        self.x = x\n",
    "        self.y = y\n",
    "        Marsupial.__init__(self)\n",
    "        \n",
    "    def __str__(self):\n",
    "        return \"I am a kangaroo located at coordinates ({},{})\".format(self.x, self.y)\n",
    "    \n",
    "    def jump(self, dx,dy):\n",
    "        self.x += dx\n",
    "        self.y += dy"
   ]
  },
  {
   "cell_type": "code",
   "execution_count": 45,
   "metadata": {
    "scrolled": false
   },
   "outputs": [],
   "source": [
    "m = Marsupial()"
   ]
  },
  {
   "cell_type": "code",
   "execution_count": 46,
   "metadata": {},
   "outputs": [],
   "source": [
    "m.put_in_pouch('doll')\n",
    "m.put_in_pouch('firetruck')\n",
    "m.put_in_pouch('kitten')"
   ]
  },
  {
   "cell_type": "code",
   "execution_count": 47,
   "metadata": {},
   "outputs": [
    {
     "data": {
      "text/plain": [
       "['doll', 'firetruck', 'kitten']"
      ]
     },
     "execution_count": 47,
     "metadata": {},
     "output_type": "execute_result"
    }
   ],
   "source": [
    "m.pouch_contents()"
   ]
  },
  {
   "cell_type": "code",
   "execution_count": 68,
   "metadata": {},
   "outputs": [],
   "source": [
    "k = kangaroo(0,0)"
   ]
  },
  {
   "cell_type": "code",
   "execution_count": 69,
   "metadata": {},
   "outputs": [
    {
     "name": "stdout",
     "output_type": "stream",
     "text": [
      "I am a kangaroo located at coordinates (0,0)\n"
     ]
    }
   ],
   "source": [
    "print(k)"
   ]
  },
  {
   "cell_type": "code",
   "execution_count": 70,
   "metadata": {},
   "outputs": [],
   "source": [
    "k.put_in_pouch('doll')\n",
    "k.put_in_pouch('firetruck')\n",
    "k.put_in_pouch('kitten')"
   ]
  },
  {
   "cell_type": "code",
   "execution_count": 71,
   "metadata": {},
   "outputs": [
    {
     "data": {
      "text/plain": [
       "['doll', 'firetruck', 'kitten']"
      ]
     },
     "execution_count": 71,
     "metadata": {},
     "output_type": "execute_result"
    }
   ],
   "source": [
    "k.pouch_contents()"
   ]
  },
  {
   "cell_type": "code",
   "execution_count": 72,
   "metadata": {},
   "outputs": [],
   "source": [
    "k.jump(1,0)"
   ]
  },
  {
   "cell_type": "code",
   "execution_count": 73,
   "metadata": {},
   "outputs": [],
   "source": [
    "k.jump(1,0)"
   ]
  },
  {
   "cell_type": "code",
   "execution_count": 74,
   "metadata": {},
   "outputs": [],
   "source": [
    "k.jump(1,0)"
   ]
  },
  {
   "cell_type": "code",
   "execution_count": 75,
   "metadata": {},
   "outputs": [
    {
     "name": "stdout",
     "output_type": "stream",
     "text": [
      "I am a kangaroo located at coordinates (3,0)\n"
     ]
    }
   ],
   "source": [
    "print(k)"
   ]
  },
  {
   "cell_type": "markdown",
   "metadata": {},
   "source": [
    "## Question 4\n",
    "Implement a new GUI class App that combines user-defined tkinter widget classes Calculator and Mortgage displayed below: (This question can be done using a .py file)"
   ]
  },
  {
   "cell_type": "code",
   "execution_count": null,
   "metadata": {},
   "outputs": [],
   "source": [
    " # Import tkinter \n",
    "\n",
    "from tkinter import *\n",
    "\n",
    "class Calculator: \n",
    "\n",
    "  \n",
    "\n",
    "  def __init__(self): \n",
    "\n",
    "  \n",
    "\n",
    "    window = Tk() # Create a window \n",
    "\n",
    "    window.title(\"tk\") # Set title \n",
    "\n",
    "    # create the input boxes. \n",
    "\n",
    "    Label(window, text = \"Loan Amount\").grid(row = 1, \n",
    "\n",
    "                     column = 1, sticky = W) \n",
    "\n",
    "    Label(window, text = \"Interest Rate\").grid(row = 2, \n",
    "\n",
    "                   column = 1, sticky = W) \n",
    "\n",
    "    Label(window, text = \"Loan Terms\").grid(row = 3, \n",
    "\n",
    "                   column = 1, sticky = W)\n",
    "\n",
    "    btComputeMortgage = Button(window, text = \"Compute Mortgage\", \n",
    "\n",
    "                 command = self.computeMortgage).grid( \n",
    "\n",
    "                 row = 4, column = 1, sticky = E)\n",
    "\n",
    "     \n",
    "\n",
    "    MC = Button(window, text = \"MC\", \n",
    "\n",
    "                 command = self.computeMC).grid( \n",
    "\n",
    "                 row = 2, column = 3, sticky = E)\n",
    "\n",
    "    M_plus = Button(window, text = \"M+\", \n",
    "\n",
    "                 command = self.computeM_plus).grid( \n",
    "\n",
    "                 row = 2, column = 4, sticky = E)\n",
    "\n",
    "    M_minus = Button(window, text = \"M-\", \n",
    "\n",
    "                 command = self.computeM_minus).grid( \n",
    "\n",
    "                 row = 2, column = 5, sticky = E)\n",
    "\n",
    "    MR = Button(window, text = \"MR\", \n",
    "\n",
    "                 command = self.computeMR).grid( \n",
    "\n",
    "                 row = 2, column = 6, sticky = E)\n",
    "\n",
    "\n",
    "\n",
    "\n",
    "\n",
    "\n",
    "\n",
    "\n",
    "\n",
    "    C = Button(window, text = \"C\", \n",
    "\n",
    "                 command = self.computeC).grid( \n",
    "\n",
    "                 row = 3, column = 3, sticky = E)\n",
    "\n",
    "    sq_root = Button(window, text = \"√\", \n",
    "\n",
    "                 command = self.computesq_root).grid( \n",
    "\n",
    "                 row = 3, column = 4, sticky = E)\n",
    "\n",
    "    square = Button(window, text = \"x^2\", \n",
    "\n",
    "                 command = self.computesquare).grid( \n",
    "\n",
    "                 row = 3, column = 5, sticky = E)\n",
    "\n",
    "    add = Button(window, text = \"+\", \n",
    "\n",
    "                 command = self.computeaddition).grid( \n",
    "\n",
    "                 row = 3, column = 6, sticky = E)\n",
    "\n",
    "\n",
    "\n",
    "\n",
    "\n",
    "\n",
    "\n",
    "\n",
    "\n",
    "\n",
    "\n",
    "    seven = Button(window, text = \"7\", \n",
    "\n",
    "                 command = self.computeseven).grid( \n",
    "\n",
    "                 row = 4, column = 3, sticky = E)\n",
    "\n",
    "    eight = Button(window, text = \"8\", \n",
    "\n",
    "                 command = self.computeeight).grid( \n",
    "\n",
    "                 row = 4, column = 4, sticky = E)\n",
    "\n",
    "    nine = Button(window, text = \"9\", \n",
    "\n",
    "                 command = self.computenine).grid( \n",
    "\n",
    "                 row = 4, column = 5, sticky = E)\n",
    "\n",
    "    sub = Button(window, text = \"-\", \n",
    "\n",
    "                 command = self.computesub).grid( \n",
    "\n",
    "                 row = 4, column = 6, sticky = E)\n",
    "\n",
    "\n",
    "\n",
    "\n",
    "\n",
    "\n",
    "\n",
    "\n",
    "\n",
    "    four = Button(window, text = \"4\", \n",
    "\n",
    "                 command = self.computefour).grid( \n",
    "\n",
    "                 row = 5, column = 3, sticky = E)\n",
    "\n",
    "    five = Button(window, text = \"5\", \n",
    "\n",
    "                 command = self.computefive).grid( \n",
    "\n",
    "                 row = 5, column = 4, sticky = E)\n",
    "\n",
    "    six = Button(window, text = \"6\", \n",
    "\n",
    "                 command = self.computesix).grid( \n",
    "\n",
    "                 row = 5, column = 5, sticky = E)\n",
    "\n",
    "    mul = Button(window, text = \"*\", \n",
    "\n",
    "                 command = self.computemul).grid( \n",
    "\n",
    "                 row = 5, column = 6, sticky = E)\n",
    "\n",
    "\n",
    "\n",
    "\n",
    "\n",
    "\n",
    "\n",
    "    one = Button(window, text = \"1\", \n",
    "\n",
    "                 command = self.computeone).grid( \n",
    "\n",
    "                 row = 6, column = 3, sticky = E)\n",
    "\n",
    "    two = Button(window, text = \"2\", \n",
    "\n",
    "                 command = self.computetwo).grid( \n",
    "\n",
    "                 row = 6, column = 4, sticky = E)\n",
    "\n",
    "    three = Button(window, text = \"3\", \n",
    "\n",
    "                 command = self.computethree).grid( \n",
    "\n",
    "                 row = 6, column = 5, sticky = E)\n",
    "\n",
    "    div = Button(window, text = \"/\", \n",
    "\n",
    "                 command = self.computediv).grid( \n",
    "\n",
    "                 row = 6, column = 6, sticky = E)\n",
    "\n",
    "     \n",
    "\n",
    "    zero = Button(window, text = \"0\", \n",
    "\n",
    "                 command = self.computezero).grid( \n",
    "\n",
    "                 row = 7, column = 3, sticky = E)\n",
    "\n",
    "    dot = Button(window, text = \".\", \n",
    "\n",
    "                 command = self.computedot).grid( \n",
    "\n",
    "                 row = 7, column = 4, sticky = E)\n",
    "\n",
    "    plus_minus = Button(window, text = \"+-\", \n",
    "\n",
    "                 command = self.computeplus_minus).grid( \n",
    "\n",
    "                 row = 7, column = 5, sticky = E)\n",
    "\n",
    "    equals = Button(window, text = \"=\", \n",
    "\n",
    "                 command = self.computeequals).grid( \n",
    "\n",
    "                 row = 7, column = 6, sticky = E)\n",
    "\n",
    "\n",
    "\n",
    "     \n",
    "\n",
    "    # for taking inputs \n",
    "\n",
    "    self.loan_amount = StringVar()  \n",
    "\n",
    "    Entry(window, textvariable = self.loan_amount, \n",
    "\n",
    "           justify = RIGHT).grid(row = 1, column = 2) \n",
    "\n",
    "\n",
    "\n",
    "    self.Interest_Rate = StringVar() \n",
    "\n",
    "    Entry(window, textvariable = self.Interest_Rate, \n",
    "\n",
    "         justify = RIGHT).grid(row = 2, column = 2) \n",
    "\n",
    "\n",
    "\n",
    "    self.loan_terms = StringVar() \n",
    "\n",
    "    Entry(window, textvariable = self.loan_terms, \n",
    "\n",
    "       justify = RIGHT).grid(row = 3, column = 2) \n",
    "\n",
    "  \n",
    "\n",
    "    self.compute_mortgage = StringVar() \n",
    "\n",
    "    lblTotalPayment = Label(window, textvariable = \n",
    "\n",
    "            self.compute_mortgage).grid(row = 4, \n",
    "\n",
    "            column = 2, sticky = E) \n",
    "\n",
    "      \n",
    "\n",
    "    # create the button \n",
    "\n",
    "  \n",
    "\n",
    "    window.mainloop() # Create an event loop \n",
    "\n",
    "  \n",
    "\n",
    "  \n",
    "\n",
    "  # compute the total payment. \n",
    "\n",
    "  def computeMortgage(self): \n",
    "\n",
    "          \n",
    "\n",
    "    mortgage = 0\n",
    "\n",
    "    loan_amount = float(self.loan_amount.get())\n",
    "\n",
    "    interest_rate = float(self.Interest_Rate.get())  \n",
    "\n",
    "    loan_terms = int(self.loan_terms.get()) \n",
    "\n",
    "    mortgage = loan_amount * ((interest_rate/1200) * (1+interest_rate/1200)**loan_terms )/(((1+interest_rate/1200)**loan_terms)-1)\n",
    "\n",
    "    self.compute_mortgage.set(format(mortgage, '10.2f')) \n",
    "\n",
    "  def computeMC():\n",
    "\n",
    "    pass\n",
    "\n",
    "  def computeM_plus():\n",
    "\n",
    "    pass\n",
    "\n",
    "  def computeM_minus():\n",
    "\n",
    "    pass\n",
    "\n",
    "  def computeMR():\n",
    "\n",
    "    pass\n",
    "\n",
    "  def computeC():\n",
    "\n",
    "    pass\n",
    "\n",
    "  def computesq_root():\n",
    "\n",
    "    pass\n",
    "\n",
    "  def computesquare():\n",
    "\n",
    "    pass\n",
    "\n",
    "  def computeaddition():\n",
    "\n",
    "    pass\n",
    "\n",
    "  def computeseven():\n",
    "\n",
    "    pass\n",
    "\n",
    "  def computeeight():\n",
    "\n",
    "    pass\n",
    "\n",
    "  def computenine():\n",
    "\n",
    "    pass\n",
    "\n",
    "  def computesub():\n",
    "\n",
    "    pass\n",
    "\n",
    "  def computefour():\n",
    "\n",
    "    pass\n",
    "\n",
    "  def computefive():\n",
    "\n",
    "    pass\n",
    "\n",
    "  def computesix():\n",
    "\n",
    "    pass\n",
    "\n",
    "  def computemul():\n",
    "\n",
    "    pass\n",
    "\n",
    "  def computeone():\n",
    "\n",
    "    pass\n",
    "\n",
    "  def computetwo():\n",
    "\n",
    "    pass\n",
    "\n",
    "  def computethree():\n",
    "\n",
    "    pass\n",
    "\n",
    "  def computediv():\n",
    "\n",
    "    pass\n",
    "\n",
    "  def computezero():\n",
    "\n",
    "    pass\n",
    "\n",
    "  def computedot():\n",
    "\n",
    "    pass\n",
    "\n",
    "  def computeplus_minus():\n",
    "\n",
    "    pass\n",
    "\n",
    "  def computeequals():\n",
    "\n",
    "    pass\n",
    "\n",
    "   \n",
    "\n",
    " # call the class to run the program. \n",
    "\n",
    "Calculator() "
   ]
  },
  {
   "attachments": {
    "image.png": {
     "image/png": "[encoded data removed]"
    }
   },
   "cell_type": "markdown",
   "metadata": {},
   "source": [
    "![image.png](attachment:image.png)"
   ]
  },
  {
   "cell_type": "markdown",
   "metadata": {},
   "source": [
    "## Question 5\n",
    "Write function collatz() that takes a positive integer x as input and prints the Collatz sequence starting at x. A Collatz sequence is obtained by repeatedly applying this rule to the previous number x in the sequence:\n",
    "x = { 𝑥/2 𝑖𝑓 𝑥 𝑖𝑠 𝑒𝑣𝑒𝑛\n",
    "      3𝑥+1 𝑖𝑓 𝑥 𝑖𝑠 𝑜𝑑𝑑\n",
    "\n",
    "Your function should stop when the sequence gets to number 1. Your implementation must be recursive, without any loops."
   ]
  },
  {
   "cell_type": "code",
   "execution_count": 6,
   "metadata": {},
   "outputs": [],
   "source": [
    "def collatz(x):  #DEFINING COLLATZ FUNCTION\n",
    "    if (x == 1):\n",
    "        print (int(x))\n",
    "    elif x % 2 == 0:     #WHERE X = X/2\n",
    "        print (int(x))\n",
    "        x = x/2\n",
    "        collatz(x)\n",
    "    else:               #STOP WHEN CONDITION SATISFY X IS EVEN/3X+1 IF X IS ODD\n",
    "        print (int(x))\n",
    "        x = 3*x + 1\n",
    "        collatz(x)"
   ]
  },
  {
   "cell_type": "code",
   "execution_count": 9,
   "metadata": {},
   "outputs": [
    {
     "name": "stdout",
     "output_type": "stream",
     "text": [
      "1\n"
     ]
    }
   ],
   "source": [
    "collatz (1)"
   ]
  },
  {
   "cell_type": "code",
   "execution_count": 8,
   "metadata": {
    "scrolled": true
   },
   "outputs": [
    {
     "name": "stdout",
     "output_type": "stream",
     "text": [
      "10\n",
      "5\n",
      "16\n",
      "8\n",
      "4\n",
      "2\n",
      "1\n"
     ]
    }
   ],
   "source": [
    "collatz(10)"
   ]
  },
  {
   "cell_type": "markdown",
   "metadata": {},
   "source": [
    "## Question 6 \n",
    "Write a recursive method binary() that takes a non-negative integer n and prints the binary representation of integer n."
   ]
  },
  {
   "cell_type": "code",
   "execution_count": 130,
   "metadata": {},
   "outputs": [],
   "source": [
    "def binary (n):  #HERE INSERTING BINARY FUNCTION\n",
    "    if n > 1:\n",
    "        binary(n//2)\n",
    "    print(n % 2,end = ' ')"
   ]
  },
  {
   "cell_type": "code",
   "execution_count": 131,
   "metadata": {},
   "outputs": [
    {
     "name": "stdout",
     "output_type": "stream",
     "text": [
      "0 "
     ]
    }
   ],
   "source": [
    "binary(0)"
   ]
  },
  {
   "cell_type": "code",
   "execution_count": 132,
   "metadata": {},
   "outputs": [
    {
     "name": "stdout",
     "output_type": "stream",
     "text": [
      "1 "
     ]
    }
   ],
   "source": [
    "binary(1)"
   ]
  },
  {
   "cell_type": "code",
   "execution_count": 133,
   "metadata": {},
   "outputs": [
    {
     "name": "stdout",
     "output_type": "stream",
     "text": [
      "1 1 "
     ]
    }
   ],
   "source": [
    "binary(3)"
   ]
  },
  {
   "cell_type": "code",
   "execution_count": 134,
   "metadata": {},
   "outputs": [
    {
     "name": "stdout",
     "output_type": "stream",
     "text": [
      "1 0 0 1 "
     ]
    }
   ],
   "source": [
    "binary(9)"
   ]
  },
  {
   "cell_type": "markdown",
   "metadata": {},
   "source": [
    "## Question 7\n",
    "Implement a class named HeadingParser that can be used to parse an HTML document, and retrieve and print all the headings in the document. You should implement your class as a subclass of HTMLParser, defined in Standard Library module html.parser. When fed a string containing HTML code, your class shouldprint the headings, one per line and in the order in which they appear in the document. Each heading should be indented as follows: an h1 heading should have indentation 0, and h2 heading should have indentation 1, etc. Test your implementation using w3c.html."
   ]
  },
  {
   "cell_type": "code",
   "execution_count": 1,
   "metadata": {},
   "outputs": [
    {
     "name": "stdout",
     "output_type": "stream",
     "text": [
      "Hello there!\n",
      "\t How are you?\n"
     ]
    }
   ],
   "source": [
    "from html.parser import HTMLParser\n",
    "\n",
    "class HeadingParser(HTMLParser):\n",
    "\n",
    "    def __init__(self):\n",
    "        self.flag = False\n",
    "        self.indent = 0\n",
    "        self.stack = []\n",
    "        super().__init__()\n",
    "      \n",
    "    def handle_starttag(self,tag,attrs):\n",
    "        if (tag [0] == 'h' and tag[1] <='6' and tag[1] > '0' and len(tag) == 2):\n",
    "            self.stack.append(\"\")\n",
    "  \n",
    "    def handle_endtag(self,tag):\n",
    "        if (tag[0] =='h' and tag[1] <='6' and tag[1] > '0' and len(tag) == 2):\n",
    "            indent = int(tag[1]) - 1\n",
    "            for i in range (0,indent):\n",
    "                print(\"\\t\",end=\"\")\n",
    "            print(self.stack.pop())\n",
    "    \n",
    "    def handle_data(self, data):\n",
    "        if(len(self.stack) != 0):\n",
    "            str = self.stack.pop()\n",
    "            str += data\n",
    "            self.stack.append(str)\n",
    "        \n",
    "parser = HeadingParser()\n",
    "parser.feed('<html><title>Hello World!</title></head>'\n",
    "           '<body><h1>Hello there!</h1><h2> How are you?</h2></body></html>')"
   ]
  },
  {
   "cell_type": "markdown",
   "metadata": {},
   "source": [
    "## Question 8 \n",
    "Implement recursive function webdir() that takes as input: a URL (as a string) and non-negative integers depth and indent. Your function should visit every web page reachable from the starting URL web page in depth clicks or less, and print each web page's URL. As shown below, indentation, specified by indent, should be used to indicate the depth of a URL."
   ]
  },
  {
   "cell_type": "code",
   "execution_count": 26,
   "metadata": {},
   "outputs": [],
   "source": [
    "from urllib.parse import urljoin\n",
    "from html.parser import HTMLParser\n",
    "class Collector(HTMLParser):\n",
    "    def __init__(self,url):\n",
    "        HTMLParser.__init__(self)\n",
    "        self.url = url\n",
    "        self.links = []\n",
    "    def handle_startag(self,tag,attrs):\n",
    "        if tag == 'a':\n",
    "            for attr in attrs:\n",
    "                if attr[0] == 'href':\n",
    "                    absolute = urljoin(self.url,attr[1])\n",
    "                    if absolute[:4] == 'http':\n",
    "                        self.links.append(absolute)\n",
    "    def getLinks(self):\n",
    "        return self.links\n",
    "\n",
    "from urllib.request import urlopen\n",
    "def analyze(url):\n",
    "    content = urlopen(url).read().decode()\n",
    "    collector = Collector(url)\n",
    "    collector.feed(content)\n",
    "    return collector.getLinks()\n",
    "\n",
    "visited = set()\n",
    "def webdir(url,depth,indent):\n",
    "    global visited\n",
    "    if depth == 0:\n",
    "        return\n",
    "    print(' '*indent,url)\n",
    "    indent += 1\n",
    "    depth -= 1\n",
    "    visited.add(url)\n",
    "    links = analyze(url)\n",
    "    for link in links:\n",
    "        if link not in visited:\n",
    "            try:\n",
    "                webdir(link,depth,indent)\n",
    "            except:\n",
    "                pass"
   ]
  },
  {
   "cell_type": "code",
   "execution_count": 39,
   "metadata": {},
   "outputs": [
    {
     "name": "stdout",
     "output_type": "stream",
     "text": [
      " http://reed.cs.depaul.edu/lperkovic/csc242/test1.html\n"
     ]
    },
    {
     "ename": "HTTPError",
     "evalue": "HTTP Error 404: ",
     "output_type": "error",
     "traceback": [
      "\u001b[1;31m---------------------------------------------------------------------------\u001b[0m",
      "\u001b[1;31mHTTPError\u001b[0m                                 Traceback (most recent call last)",
      "\u001b[1;32m<ipython-input-39-3a9b4b65559f>\u001b[0m in \u001b[0;36m<module>\u001b[1;34m\u001b[0m\n\u001b[1;32m----> 1\u001b[1;33m \u001b[0mwebdir\u001b[0m\u001b[1;33m(\u001b[0m\u001b[1;34m'http://reed.cs.depaul.edu/lperkovic/csc242/test1.html'\u001b[0m\u001b[1;33m,\u001b[0m \u001b[1;36m2\u001b[0m\u001b[1;33m,\u001b[0m \u001b[1;36m0\u001b[0m\u001b[1;33m)\u001b[0m\u001b[1;33m\u001b[0m\u001b[1;33m\u001b[0m\u001b[0m\n\u001b[0m",
      "\u001b[1;32m<ipython-input-26-17735331f741>\u001b[0m in \u001b[0;36mwebdir\u001b[1;34m(url, depth, indent)\u001b[0m\n\u001b[0;32m     32\u001b[0m     \u001b[0mdepth\u001b[0m \u001b[1;33m-=\u001b[0m \u001b[1;36m1\u001b[0m\u001b[1;33m\u001b[0m\u001b[1;33m\u001b[0m\u001b[0m\n\u001b[0;32m     33\u001b[0m     \u001b[0mvisited\u001b[0m\u001b[1;33m.\u001b[0m\u001b[0madd\u001b[0m\u001b[1;33m(\u001b[0m\u001b[0murl\u001b[0m\u001b[1;33m)\u001b[0m\u001b[1;33m\u001b[0m\u001b[1;33m\u001b[0m\u001b[0m\n\u001b[1;32m---> 34\u001b[1;33m     \u001b[0mlinks\u001b[0m \u001b[1;33m=\u001b[0m \u001b[0manalyze\u001b[0m\u001b[1;33m(\u001b[0m\u001b[0murl\u001b[0m\u001b[1;33m)\u001b[0m\u001b[1;33m\u001b[0m\u001b[1;33m\u001b[0m\u001b[0m\n\u001b[0m\u001b[0;32m     35\u001b[0m     \u001b[1;32mfor\u001b[0m \u001b[0mlink\u001b[0m \u001b[1;32min\u001b[0m \u001b[0mlinks\u001b[0m\u001b[1;33m:\u001b[0m\u001b[1;33m\u001b[0m\u001b[1;33m\u001b[0m\u001b[0m\n\u001b[0;32m     36\u001b[0m         \u001b[1;32mif\u001b[0m \u001b[0mlink\u001b[0m \u001b[1;32mnot\u001b[0m \u001b[1;32min\u001b[0m \u001b[0mvisited\u001b[0m\u001b[1;33m:\u001b[0m\u001b[1;33m\u001b[0m\u001b[1;33m\u001b[0m\u001b[0m\n",
      "\u001b[1;32m<ipython-input-26-17735331f741>\u001b[0m in \u001b[0;36manalyze\u001b[1;34m(url)\u001b[0m\n\u001b[0;32m     18\u001b[0m \u001b[1;32mfrom\u001b[0m \u001b[0murllib\u001b[0m\u001b[1;33m.\u001b[0m\u001b[0mrequest\u001b[0m \u001b[1;32mimport\u001b[0m \u001b[0murlopen\u001b[0m\u001b[1;33m\u001b[0m\u001b[1;33m\u001b[0m\u001b[0m\n\u001b[0;32m     19\u001b[0m \u001b[1;32mdef\u001b[0m \u001b[0manalyze\u001b[0m\u001b[1;33m(\u001b[0m\u001b[0murl\u001b[0m\u001b[1;33m)\u001b[0m\u001b[1;33m:\u001b[0m\u001b[1;33m\u001b[0m\u001b[1;33m\u001b[0m\u001b[0m\n\u001b[1;32m---> 20\u001b[1;33m     \u001b[0mcontent\u001b[0m \u001b[1;33m=\u001b[0m \u001b[0murlopen\u001b[0m\u001b[1;33m(\u001b[0m\u001b[0murl\u001b[0m\u001b[1;33m)\u001b[0m\u001b[1;33m.\u001b[0m\u001b[0mread\u001b[0m\u001b[1;33m(\u001b[0m\u001b[1;33m)\u001b[0m\u001b[1;33m.\u001b[0m\u001b[0mdecode\u001b[0m\u001b[1;33m(\u001b[0m\u001b[1;33m)\u001b[0m\u001b[1;33m\u001b[0m\u001b[1;33m\u001b[0m\u001b[0m\n\u001b[0m\u001b[0;32m     21\u001b[0m     \u001b[0mcollector\u001b[0m \u001b[1;33m=\u001b[0m \u001b[0mCollector\u001b[0m\u001b[1;33m(\u001b[0m\u001b[0murl\u001b[0m\u001b[1;33m)\u001b[0m\u001b[1;33m\u001b[0m\u001b[1;33m\u001b[0m\u001b[0m\n\u001b[0;32m     22\u001b[0m     \u001b[0mcollector\u001b[0m\u001b[1;33m.\u001b[0m\u001b[0mfeed\u001b[0m\u001b[1;33m(\u001b[0m\u001b[0mcontent\u001b[0m\u001b[1;33m)\u001b[0m\u001b[1;33m\u001b[0m\u001b[1;33m\u001b[0m\u001b[0m\n",
      "\u001b[1;32m~\\anaconda3\\lib\\urllib\\request.py\u001b[0m in \u001b[0;36murlopen\u001b[1;34m(url, data, timeout, cafile, capath, cadefault, context)\u001b[0m\n\u001b[0;32m    220\u001b[0m     \u001b[1;32melse\u001b[0m\u001b[1;33m:\u001b[0m\u001b[1;33m\u001b[0m\u001b[1;33m\u001b[0m\u001b[0m\n\u001b[0;32m    221\u001b[0m         \u001b[0mopener\u001b[0m \u001b[1;33m=\u001b[0m \u001b[0m_opener\u001b[0m\u001b[1;33m\u001b[0m\u001b[1;33m\u001b[0m\u001b[0m\n\u001b[1;32m--> 222\u001b[1;33m     \u001b[1;32mreturn\u001b[0m \u001b[0mopener\u001b[0m\u001b[1;33m.\u001b[0m\u001b[0mopen\u001b[0m\u001b[1;33m(\u001b[0m\u001b[0murl\u001b[0m\u001b[1;33m,\u001b[0m \u001b[0mdata\u001b[0m\u001b[1;33m,\u001b[0m \u001b[0mtimeout\u001b[0m\u001b[1;33m)\u001b[0m\u001b[1;33m\u001b[0m\u001b[1;33m\u001b[0m\u001b[0m\n\u001b[0m\u001b[0;32m    223\u001b[0m \u001b[1;33m\u001b[0m\u001b[0m\n\u001b[0;32m    224\u001b[0m \u001b[1;32mdef\u001b[0m \u001b[0minstall_opener\u001b[0m\u001b[1;33m(\u001b[0m\u001b[0mopener\u001b[0m\u001b[1;33m)\u001b[0m\u001b[1;33m:\u001b[0m\u001b[1;33m\u001b[0m\u001b[1;33m\u001b[0m\u001b[0m\n",
      "\u001b[1;32m~\\anaconda3\\lib\\urllib\\request.py\u001b[0m in \u001b[0;36mopen\u001b[1;34m(self, fullurl, data, timeout)\u001b[0m\n\u001b[0;32m    529\u001b[0m         \u001b[1;32mfor\u001b[0m \u001b[0mprocessor\u001b[0m \u001b[1;32min\u001b[0m \u001b[0mself\u001b[0m\u001b[1;33m.\u001b[0m\u001b[0mprocess_response\u001b[0m\u001b[1;33m.\u001b[0m\u001b[0mget\u001b[0m\u001b[1;33m(\u001b[0m\u001b[0mprotocol\u001b[0m\u001b[1;33m,\u001b[0m \u001b[1;33m[\u001b[0m\u001b[1;33m]\u001b[0m\u001b[1;33m)\u001b[0m\u001b[1;33m:\u001b[0m\u001b[1;33m\u001b[0m\u001b[1;33m\u001b[0m\u001b[0m\n\u001b[0;32m    530\u001b[0m             \u001b[0mmeth\u001b[0m \u001b[1;33m=\u001b[0m \u001b[0mgetattr\u001b[0m\u001b[1;33m(\u001b[0m\u001b[0mprocessor\u001b[0m\u001b[1;33m,\u001b[0m \u001b[0mmeth_name\u001b[0m\u001b[1;33m)\u001b[0m\u001b[1;33m\u001b[0m\u001b[1;33m\u001b[0m\u001b[0m\n\u001b[1;32m--> 531\u001b[1;33m             \u001b[0mresponse\u001b[0m \u001b[1;33m=\u001b[0m \u001b[0mmeth\u001b[0m\u001b[1;33m(\u001b[0m\u001b[0mreq\u001b[0m\u001b[1;33m,\u001b[0m \u001b[0mresponse\u001b[0m\u001b[1;33m)\u001b[0m\u001b[1;33m\u001b[0m\u001b[1;33m\u001b[0m\u001b[0m\n\u001b[0m\u001b[0;32m    532\u001b[0m \u001b[1;33m\u001b[0m\u001b[0m\n\u001b[0;32m    533\u001b[0m         \u001b[1;32mreturn\u001b[0m \u001b[0mresponse\u001b[0m\u001b[1;33m\u001b[0m\u001b[1;33m\u001b[0m\u001b[0m\n",
      "\u001b[1;32m~\\anaconda3\\lib\\urllib\\request.py\u001b[0m in \u001b[0;36mhttp_response\u001b[1;34m(self, request, response)\u001b[0m\n\u001b[0;32m    638\u001b[0m         \u001b[1;31m# request was successfully received, understood, and accepted.\u001b[0m\u001b[1;33m\u001b[0m\u001b[1;33m\u001b[0m\u001b[1;33m\u001b[0m\u001b[0m\n\u001b[0;32m    639\u001b[0m         \u001b[1;32mif\u001b[0m \u001b[1;32mnot\u001b[0m \u001b[1;33m(\u001b[0m\u001b[1;36m200\u001b[0m \u001b[1;33m<=\u001b[0m \u001b[0mcode\u001b[0m \u001b[1;33m<\u001b[0m \u001b[1;36m300\u001b[0m\u001b[1;33m)\u001b[0m\u001b[1;33m:\u001b[0m\u001b[1;33m\u001b[0m\u001b[1;33m\u001b[0m\u001b[0m\n\u001b[1;32m--> 640\u001b[1;33m             response = self.parent.error(\n\u001b[0m\u001b[0;32m    641\u001b[0m                 'http', request, response, code, msg, hdrs)\n\u001b[0;32m    642\u001b[0m \u001b[1;33m\u001b[0m\u001b[0m\n",
      "\u001b[1;32m~\\anaconda3\\lib\\urllib\\request.py\u001b[0m in \u001b[0;36merror\u001b[1;34m(self, proto, *args)\u001b[0m\n\u001b[0;32m    567\u001b[0m         \u001b[1;32mif\u001b[0m \u001b[0mhttp_err\u001b[0m\u001b[1;33m:\u001b[0m\u001b[1;33m\u001b[0m\u001b[1;33m\u001b[0m\u001b[0m\n\u001b[0;32m    568\u001b[0m             \u001b[0margs\u001b[0m \u001b[1;33m=\u001b[0m \u001b[1;33m(\u001b[0m\u001b[0mdict\u001b[0m\u001b[1;33m,\u001b[0m \u001b[1;34m'default'\u001b[0m\u001b[1;33m,\u001b[0m \u001b[1;34m'http_error_default'\u001b[0m\u001b[1;33m)\u001b[0m \u001b[1;33m+\u001b[0m \u001b[0morig_args\u001b[0m\u001b[1;33m\u001b[0m\u001b[1;33m\u001b[0m\u001b[0m\n\u001b[1;32m--> 569\u001b[1;33m             \u001b[1;32mreturn\u001b[0m \u001b[0mself\u001b[0m\u001b[1;33m.\u001b[0m\u001b[0m_call_chain\u001b[0m\u001b[1;33m(\u001b[0m\u001b[1;33m*\u001b[0m\u001b[0margs\u001b[0m\u001b[1;33m)\u001b[0m\u001b[1;33m\u001b[0m\u001b[1;33m\u001b[0m\u001b[0m\n\u001b[0m\u001b[0;32m    570\u001b[0m \u001b[1;33m\u001b[0m\u001b[0m\n\u001b[0;32m    571\u001b[0m \u001b[1;31m# XXX probably also want an abstract factory that knows when it makes\u001b[0m\u001b[1;33m\u001b[0m\u001b[1;33m\u001b[0m\u001b[1;33m\u001b[0m\u001b[0m\n",
      "\u001b[1;32m~\\anaconda3\\lib\\urllib\\request.py\u001b[0m in \u001b[0;36m_call_chain\u001b[1;34m(self, chain, kind, meth_name, *args)\u001b[0m\n\u001b[0;32m    500\u001b[0m         \u001b[1;32mfor\u001b[0m \u001b[0mhandler\u001b[0m \u001b[1;32min\u001b[0m \u001b[0mhandlers\u001b[0m\u001b[1;33m:\u001b[0m\u001b[1;33m\u001b[0m\u001b[1;33m\u001b[0m\u001b[0m\n\u001b[0;32m    501\u001b[0m             \u001b[0mfunc\u001b[0m \u001b[1;33m=\u001b[0m \u001b[0mgetattr\u001b[0m\u001b[1;33m(\u001b[0m\u001b[0mhandler\u001b[0m\u001b[1;33m,\u001b[0m \u001b[0mmeth_name\u001b[0m\u001b[1;33m)\u001b[0m\u001b[1;33m\u001b[0m\u001b[1;33m\u001b[0m\u001b[0m\n\u001b[1;32m--> 502\u001b[1;33m             \u001b[0mresult\u001b[0m \u001b[1;33m=\u001b[0m \u001b[0mfunc\u001b[0m\u001b[1;33m(\u001b[0m\u001b[1;33m*\u001b[0m\u001b[0margs\u001b[0m\u001b[1;33m)\u001b[0m\u001b[1;33m\u001b[0m\u001b[1;33m\u001b[0m\u001b[0m\n\u001b[0m\u001b[0;32m    503\u001b[0m             \u001b[1;32mif\u001b[0m \u001b[0mresult\u001b[0m \u001b[1;32mis\u001b[0m \u001b[1;32mnot\u001b[0m \u001b[1;32mNone\u001b[0m\u001b[1;33m:\u001b[0m\u001b[1;33m\u001b[0m\u001b[1;33m\u001b[0m\u001b[0m\n\u001b[0;32m    504\u001b[0m                 \u001b[1;32mreturn\u001b[0m \u001b[0mresult\u001b[0m\u001b[1;33m\u001b[0m\u001b[1;33m\u001b[0m\u001b[0m\n",
      "\u001b[1;32m~\\anaconda3\\lib\\urllib\\request.py\u001b[0m in \u001b[0;36mhttp_error_default\u001b[1;34m(self, req, fp, code, msg, hdrs)\u001b[0m\n\u001b[0;32m    647\u001b[0m \u001b[1;32mclass\u001b[0m \u001b[0mHTTPDefaultErrorHandler\u001b[0m\u001b[1;33m(\u001b[0m\u001b[0mBaseHandler\u001b[0m\u001b[1;33m)\u001b[0m\u001b[1;33m:\u001b[0m\u001b[1;33m\u001b[0m\u001b[1;33m\u001b[0m\u001b[0m\n\u001b[0;32m    648\u001b[0m     \u001b[1;32mdef\u001b[0m \u001b[0mhttp_error_default\u001b[0m\u001b[1;33m(\u001b[0m\u001b[0mself\u001b[0m\u001b[1;33m,\u001b[0m \u001b[0mreq\u001b[0m\u001b[1;33m,\u001b[0m \u001b[0mfp\u001b[0m\u001b[1;33m,\u001b[0m \u001b[0mcode\u001b[0m\u001b[1;33m,\u001b[0m \u001b[0mmsg\u001b[0m\u001b[1;33m,\u001b[0m \u001b[0mhdrs\u001b[0m\u001b[1;33m)\u001b[0m\u001b[1;33m:\u001b[0m\u001b[1;33m\u001b[0m\u001b[1;33m\u001b[0m\u001b[0m\n\u001b[1;32m--> 649\u001b[1;33m         \u001b[1;32mraise\u001b[0m \u001b[0mHTTPError\u001b[0m\u001b[1;33m(\u001b[0m\u001b[0mreq\u001b[0m\u001b[1;33m.\u001b[0m\u001b[0mfull_url\u001b[0m\u001b[1;33m,\u001b[0m \u001b[0mcode\u001b[0m\u001b[1;33m,\u001b[0m \u001b[0mmsg\u001b[0m\u001b[1;33m,\u001b[0m \u001b[0mhdrs\u001b[0m\u001b[1;33m,\u001b[0m \u001b[0mfp\u001b[0m\u001b[1;33m)\u001b[0m\u001b[1;33m\u001b[0m\u001b[1;33m\u001b[0m\u001b[0m\n\u001b[0m\u001b[0;32m    650\u001b[0m \u001b[1;33m\u001b[0m\u001b[0m\n\u001b[0;32m    651\u001b[0m \u001b[1;32mclass\u001b[0m \u001b[0mHTTPRedirectHandler\u001b[0m\u001b[1;33m(\u001b[0m\u001b[0mBaseHandler\u001b[0m\u001b[1;33m)\u001b[0m\u001b[1;33m:\u001b[0m\u001b[1;33m\u001b[0m\u001b[1;33m\u001b[0m\u001b[0m\n",
      "\u001b[1;31mHTTPError\u001b[0m: HTTP Error 404: "
     ]
    }
   ],
   "source": [
    "webdir('http://reed.cs.depaul.edu/lperkovic/csc242/test1.html', 2, 0)"
   ]
  },
  {
   "cell_type": "markdown",
   "metadata": {},
   "source": [
    "## ABOVE MENTIONED HTML LINK IS SHOWING HTTP ERROR 404:\n",
    "#BELOW TRY TO USE DIFFERENT LINK TO SHOW THE RESULT OF THE CODE"
   ]
  },
  {
   "cell_type": "code",
   "execution_count": 38,
   "metadata": {},
   "outputs": [
    {
     "name": "stdout",
     "output_type": "stream",
     "text": [
      " https://www.tutordoctoropportunity.com/?utm_source=consumer_link&utm_medium=website_link&_ga=2.34000929.1674250784.1603850970-892732296.1603850970\n"
     ]
    }
   ],
   "source": [
    "webdir('https://www.tutordoctoropportunity.com/?utm_source=consumer_link&utm_medium=website_link&_ga=2.34000929.1674250784.1603850970-892732296.1603850970', 2, 0)"
   ]
  },
  {
   "cell_type": "markdown",
   "metadata": {},
   "source": [
    "## Question 9\n",
    "Write SQL queries on the below database table that return:\n",
    "a) All the temperature data.\n",
    "b) All the cities, but without repetition.\n",
    "c) All the records for India.\n",
    "d) All the Fall records.\n",
    "e) The city, country, and season for which the average rainfall is between 200 and 400 millimeters.\n",
    "f) The city and country for which the average Fall temperature is above 20 degrees, in increasing temperature order.\n",
    "g) The total annual rainfall for Cairo.\n",
    "h) The total rainfall for each season."
   ]
  },
  {
   "cell_type": "code",
   "execution_count": 153,
   "metadata": {},
   "outputs": [],
   "source": [
    "get_ipython().run_line_magic('load_ext', 'sql')"
   ]
  },
  {
   "cell_type": "code",
   "execution_count": 154,
   "metadata": {},
   "outputs": [],
   "source": [
    "#INSERTING SQLITE LIBRARY\n",
    "get_ipython().run_line_magic('sql', 'sqlite://')"
   ]
  },
  {
   "cell_type": "code",
   "execution_count": 155,
   "metadata": {},
   "outputs": [
    {
     "name": "stdout",
     "output_type": "stream",
     "text": [
      " * sqlite://\n",
      "Done.\n",
      " * sqlite://\n",
      "1 rows affected.\n",
      " * sqlite://\n",
      "1 rows affected.\n",
      " * sqlite://\n",
      "1 rows affected.\n",
      " * sqlite://\n",
      "1 rows affected.\n",
      " * sqlite://\n",
      "1 rows affected.\n",
      " * sqlite://\n",
      "1 rows affected.\n",
      " * sqlite://\n",
      "1 rows affected.\n",
      " * sqlite://\n",
      "1 rows affected.\n",
      " * sqlite://\n",
      "1 rows affected.\n",
      " * sqlite://\n",
      "1 rows affected.\n",
      " * sqlite://\n",
      "1 rows affected.\n",
      " * sqlite://\n",
      "1 rows affected.\n"
     ]
    },
    {
     "data": {
      "text/plain": [
       "[]"
      ]
     },
     "execution_count": 155,
     "metadata": {},
     "output_type": "execute_result"
    }
   ],
   "source": [
    "#CREATING A TABLE 'RAIN' THAT CONTAINS CITY, COUNTRY, SEASON, TEMPERATURE AND RAINFALL COLUMNS WITH VALUES\n",
    "get_ipython().run_line_magic('sql', 'create table Rain(City varchar(100),Country varchar(100),Season varchar(100),Temperature_C float ,Rainfall_mm float );')\n",
    "get_ipython().run_line_magic('sql', \"insert into Rain values('Mumbai','India', 'Winter',24.8,5.9);\")\n",
    "get_ipython().run_line_magic('sql', \"insert into Rain values('Mumbai','India', 'Spring',28.4,16.2);\")\n",
    "get_ipython().run_line_magic('sql', \"insert into Rain values('Mumbai','India', 'Summer',27.9,1549.4);\")\n",
    "get_ipython().run_line_magic('sql', \"insert into Rain values('Mumbai','India', 'Fall',27.6,346.0);\")\n",
    "get_ipython().run_line_magic('sql', \"insert into Rain values('London','United Kingdom', 'Winter',4.2,207.7);\")\n",
    "get_ipython().run_line_magic('sql', \"insert into Rain values('London','United Kingdom', 'Spring',8.3,169.6);\")\n",
    "get_ipython().run_line_magic('sql', \"insert into Rain values('London','United Kingdom', 'Summer',15.7,157.0);\")\n",
    "get_ipython().run_line_magic('sql', \"insert into Rain values('London','United Kingdom', 'Fall',10.4,218.5);\")\n",
    "get_ipython().run_line_magic('sql', \"insert into Rain values('Cairo','Eqypt', 'Winter',13.6,16.5);\")\n",
    "get_ipython().run_line_magic('sql', \"insert into Rain values('Cairo','Eqypt', 'Spring',20.7,6.5);\")\n",
    "get_ipython().run_line_magic('sql', \"insert into Rain values('Cairo','Eqypt', 'Summer',27.7,0.1);\")\n",
    "get_ipython().run_line_magic('sql', \"insert into Rain values('Cairo','Eqypt', 'Fall',22.2,4.5);\")"
   ]
  },
  {
   "cell_type": "code",
   "execution_count": 174,
   "metadata": {},
   "outputs": [
    {
     "name": "stdout",
     "output_type": "stream",
     "text": [
      " * sqlite://\n",
      "Done.\n"
     ]
    },
    {
     "data": {
      "text/html": [
       "<table>\n",
       "    <tr>\n",
       "        <th>City</th>\n",
       "        <th>Country</th>\n",
       "        <th>Season</th>\n",
       "        <th>Temperature_C</th>\n",
       "        <th>Rainfall_mm</th>\n",
       "    </tr>\n",
       "    <tr>\n",
       "        <td>Mumbai</td>\n",
       "        <td>India</td>\n",
       "        <td>Winter</td>\n",
       "        <td>24.8</td>\n",
       "        <td>5.9</td>\n",
       "    </tr>\n",
       "    <tr>\n",
       "        <td>Mumbai</td>\n",
       "        <td>India</td>\n",
       "        <td>Spring</td>\n",
       "        <td>28.4</td>\n",
       "        <td>16.2</td>\n",
       "    </tr>\n",
       "    <tr>\n",
       "        <td>Mumbai</td>\n",
       "        <td>India</td>\n",
       "        <td>Summer</td>\n",
       "        <td>27.9</td>\n",
       "        <td>1549.4</td>\n",
       "    </tr>\n",
       "    <tr>\n",
       "        <td>Mumbai</td>\n",
       "        <td>India</td>\n",
       "        <td>Fall</td>\n",
       "        <td>27.6</td>\n",
       "        <td>346.0</td>\n",
       "    </tr>\n",
       "    <tr>\n",
       "        <td>London</td>\n",
       "        <td>United Kingdom</td>\n",
       "        <td>Winter</td>\n",
       "        <td>4.2</td>\n",
       "        <td>207.7</td>\n",
       "    </tr>\n",
       "    <tr>\n",
       "        <td>London</td>\n",
       "        <td>United Kingdom</td>\n",
       "        <td>Spring</td>\n",
       "        <td>8.3</td>\n",
       "        <td>169.6</td>\n",
       "    </tr>\n",
       "    <tr>\n",
       "        <td>London</td>\n",
       "        <td>United Kingdom</td>\n",
       "        <td>Summer</td>\n",
       "        <td>15.7</td>\n",
       "        <td>157.0</td>\n",
       "    </tr>\n",
       "    <tr>\n",
       "        <td>London</td>\n",
       "        <td>United Kingdom</td>\n",
       "        <td>Fall</td>\n",
       "        <td>10.4</td>\n",
       "        <td>218.5</td>\n",
       "    </tr>\n",
       "    <tr>\n",
       "        <td>Cairo</td>\n",
       "        <td>Eqypt</td>\n",
       "        <td>Winter</td>\n",
       "        <td>13.6</td>\n",
       "        <td>16.5</td>\n",
       "    </tr>\n",
       "    <tr>\n",
       "        <td>Cairo</td>\n",
       "        <td>Eqypt</td>\n",
       "        <td>Spring</td>\n",
       "        <td>20.7</td>\n",
       "        <td>6.5</td>\n",
       "    </tr>\n",
       "    <tr>\n",
       "        <td>Cairo</td>\n",
       "        <td>Eqypt</td>\n",
       "        <td>Summer</td>\n",
       "        <td>27.7</td>\n",
       "        <td>0.1</td>\n",
       "    </tr>\n",
       "    <tr>\n",
       "        <td>Cairo</td>\n",
       "        <td>Eqypt</td>\n",
       "        <td>Fall</td>\n",
       "        <td>22.2</td>\n",
       "        <td>4.5</td>\n",
       "    </tr>\n",
       "</table>"
      ],
      "text/plain": [
       "[('Mumbai', 'India', 'Winter', 24.8, 5.9),\n",
       " ('Mumbai', 'India', 'Spring', 28.4, 16.2),\n",
       " ('Mumbai', 'India', 'Summer', 27.9, 1549.4),\n",
       " ('Mumbai', 'India', 'Fall', 27.6, 346.0),\n",
       " ('London', 'United Kingdom', 'Winter', 4.2, 207.7),\n",
       " ('London', 'United Kingdom', 'Spring', 8.3, 169.6),\n",
       " ('London', 'United Kingdom', 'Summer', 15.7, 157.0),\n",
       " ('London', 'United Kingdom', 'Fall', 10.4, 218.5),\n",
       " ('Cairo', 'Eqypt', 'Winter', 13.6, 16.5),\n",
       " ('Cairo', 'Eqypt', 'Spring', 20.7, 6.5),\n",
       " ('Cairo', 'Eqypt', 'Summer', 27.7, 0.1),\n",
       " ('Cairo', 'Eqypt', 'Fall', 22.2, 4.5)]"
      ]
     },
     "execution_count": 174,
     "metadata": {},
     "output_type": "execute_result"
    }
   ],
   "source": [
    "#LISTING THE TABLE\n",
    "get_ipython().run_line_magic('sql', 'SELECT * FROM Rain;')"
   ]
  },
  {
   "cell_type": "code",
   "execution_count": 175,
   "metadata": {},
   "outputs": [
    {
     "name": "stdout",
     "output_type": "stream",
     "text": [
      " * sqlite://\n",
      "Done.\n"
     ]
    },
    {
     "data": {
      "text/html": [
       "<table>\n",
       "    <tr>\n",
       "        <th>Temperature_C</th>\n",
       "    </tr>\n",
       "    <tr>\n",
       "        <td>24.8</td>\n",
       "    </tr>\n",
       "    <tr>\n",
       "        <td>28.4</td>\n",
       "    </tr>\n",
       "    <tr>\n",
       "        <td>27.9</td>\n",
       "    </tr>\n",
       "    <tr>\n",
       "        <td>27.6</td>\n",
       "    </tr>\n",
       "    <tr>\n",
       "        <td>4.2</td>\n",
       "    </tr>\n",
       "    <tr>\n",
       "        <td>8.3</td>\n",
       "    </tr>\n",
       "    <tr>\n",
       "        <td>15.7</td>\n",
       "    </tr>\n",
       "    <tr>\n",
       "        <td>10.4</td>\n",
       "    </tr>\n",
       "    <tr>\n",
       "        <td>13.6</td>\n",
       "    </tr>\n",
       "    <tr>\n",
       "        <td>20.7</td>\n",
       "    </tr>\n",
       "    <tr>\n",
       "        <td>27.7</td>\n",
       "    </tr>\n",
       "    <tr>\n",
       "        <td>22.2</td>\n",
       "    </tr>\n",
       "</table>"
      ],
      "text/plain": [
       "[(24.8,),\n",
       " (28.4,),\n",
       " (27.9,),\n",
       " (27.6,),\n",
       " (4.2,),\n",
       " (8.3,),\n",
       " (15.7,),\n",
       " (10.4,),\n",
       " (13.6,),\n",
       " (20.7,),\n",
       " (27.7,),\n",
       " (22.2,)]"
      ]
     },
     "execution_count": 175,
     "metadata": {},
     "output_type": "execute_result"
    }
   ],
   "source": [
    "#LIST OF TEMPERATURE\n",
    "get_ipython().run_line_magic('sql', 'select Temperature_C from Rain;')"
   ]
  },
  {
   "cell_type": "code",
   "execution_count": 176,
   "metadata": {},
   "outputs": [
    {
     "name": "stdout",
     "output_type": "stream",
     "text": [
      " * sqlite://\n",
      "Done.\n"
     ]
    },
    {
     "data": {
      "text/html": [
       "<table>\n",
       "    <tr>\n",
       "        <th>City</th>\n",
       "    </tr>\n",
       "    <tr>\n",
       "        <td>Cairo</td>\n",
       "    </tr>\n",
       "    <tr>\n",
       "        <td>London</td>\n",
       "    </tr>\n",
       "    <tr>\n",
       "        <td>Mumbai</td>\n",
       "    </tr>\n",
       "</table>"
      ],
      "text/plain": [
       "[('Cairo',), ('London',), ('Mumbai',)]"
      ]
     },
     "execution_count": 176,
     "metadata": {},
     "output_type": "execute_result"
    }
   ],
   "source": [
    "#LIST OF CITIES\n",
    "get_ipython().run_line_magic('sql', 'select City from Rain group by City;')"
   ]
  },
  {
   "cell_type": "code",
   "execution_count": 177,
   "metadata": {},
   "outputs": [
    {
     "name": "stdout",
     "output_type": "stream",
     "text": [
      " * sqlite://\n",
      "Done.\n"
     ]
    },
    {
     "data": {
      "text/html": [
       "<table>\n",
       "    <tr>\n",
       "        <th>City</th>\n",
       "        <th>Country</th>\n",
       "        <th>Season</th>\n",
       "        <th>Temperature_C</th>\n",
       "        <th>Rainfall_mm</th>\n",
       "    </tr>\n",
       "    <tr>\n",
       "        <td>Mumbai</td>\n",
       "        <td>India</td>\n",
       "        <td>Winter</td>\n",
       "        <td>24.8</td>\n",
       "        <td>5.9</td>\n",
       "    </tr>\n",
       "    <tr>\n",
       "        <td>Mumbai</td>\n",
       "        <td>India</td>\n",
       "        <td>Spring</td>\n",
       "        <td>28.4</td>\n",
       "        <td>16.2</td>\n",
       "    </tr>\n",
       "    <tr>\n",
       "        <td>Mumbai</td>\n",
       "        <td>India</td>\n",
       "        <td>Summer</td>\n",
       "        <td>27.9</td>\n",
       "        <td>1549.4</td>\n",
       "    </tr>\n",
       "    <tr>\n",
       "        <td>Mumbai</td>\n",
       "        <td>India</td>\n",
       "        <td>Fall</td>\n",
       "        <td>27.6</td>\n",
       "        <td>346.0</td>\n",
       "    </tr>\n",
       "</table>"
      ],
      "text/plain": [
       "[('Mumbai', 'India', 'Winter', 24.8, 5.9),\n",
       " ('Mumbai', 'India', 'Spring', 28.4, 16.2),\n",
       " ('Mumbai', 'India', 'Summer', 27.9, 1549.4),\n",
       " ('Mumbai', 'India', 'Fall', 27.6, 346.0)]"
      ]
     },
     "execution_count": 177,
     "metadata": {},
     "output_type": "execute_result"
    }
   ],
   "source": [
    "#LIST OF INDIA\n",
    "get_ipython().run_line_magic('sql', \"select * from Rain where Country = 'India';\")"
   ]
  },
  {
   "cell_type": "code",
   "execution_count": 178,
   "metadata": {},
   "outputs": [
    {
     "name": "stdout",
     "output_type": "stream",
     "text": [
      " * sqlite://\n",
      "Done.\n"
     ]
    },
    {
     "data": {
      "text/html": [
       "<table>\n",
       "    <tr>\n",
       "        <th>City</th>\n",
       "        <th>Country</th>\n",
       "        <th>Season</th>\n",
       "        <th>Temperature_C</th>\n",
       "        <th>Rainfall_mm</th>\n",
       "    </tr>\n",
       "    <tr>\n",
       "        <td>Mumbai</td>\n",
       "        <td>India</td>\n",
       "        <td>Fall</td>\n",
       "        <td>27.6</td>\n",
       "        <td>346.0</td>\n",
       "    </tr>\n",
       "    <tr>\n",
       "        <td>London</td>\n",
       "        <td>United Kingdom</td>\n",
       "        <td>Fall</td>\n",
       "        <td>10.4</td>\n",
       "        <td>218.5</td>\n",
       "    </tr>\n",
       "    <tr>\n",
       "        <td>Cairo</td>\n",
       "        <td>Eqypt</td>\n",
       "        <td>Fall</td>\n",
       "        <td>22.2</td>\n",
       "        <td>4.5</td>\n",
       "    </tr>\n",
       "</table>"
      ],
      "text/plain": [
       "[('Mumbai', 'India', 'Fall', 27.6, 346.0),\n",
       " ('London', 'United Kingdom', 'Fall', 10.4, 218.5),\n",
       " ('Cairo', 'Eqypt', 'Fall', 22.2, 4.5)]"
      ]
     },
     "execution_count": 178,
     "metadata": {},
     "output_type": "execute_result"
    }
   ],
   "source": [
    "#LIST OF FALL SEASON \n",
    "get_ipython().run_line_magic('sql', \"select * from Rain where Season = 'Fall';\")"
   ]
  },
  {
   "cell_type": "code",
   "execution_count": 179,
   "metadata": {},
   "outputs": [
    {
     "name": "stdout",
     "output_type": "stream",
     "text": [
      " * sqlite://\n",
      "Done.\n"
     ]
    },
    {
     "data": {
      "text/html": [
       "<table>\n",
       "    <tr>\n",
       "        <th>City</th>\n",
       "        <th>Country</th>\n",
       "        <th>Season</th>\n",
       "        <th>Rainfall_mm</th>\n",
       "    </tr>\n",
       "    <tr>\n",
       "        <td>Mumbai</td>\n",
       "        <td>India</td>\n",
       "        <td>Fall</td>\n",
       "        <td>346.0</td>\n",
       "    </tr>\n",
       "    <tr>\n",
       "        <td>London</td>\n",
       "        <td>United Kingdom</td>\n",
       "        <td>Winter</td>\n",
       "        <td>207.7</td>\n",
       "    </tr>\n",
       "    <tr>\n",
       "        <td>London</td>\n",
       "        <td>United Kingdom</td>\n",
       "        <td>Fall</td>\n",
       "        <td>218.5</td>\n",
       "    </tr>\n",
       "</table>"
      ],
      "text/plain": [
       "[('Mumbai', 'India', 'Fall', 346.0),\n",
       " ('London', 'United Kingdom', 'Winter', 207.7),\n",
       " ('London', 'United Kingdom', 'Fall', 218.5)]"
      ]
     },
     "execution_count": 179,
     "metadata": {},
     "output_type": "execute_result"
    }
   ],
   "source": [
    "#LIST OF CITY,COUNTRY AND SEASON FOR WHICH THE AVERAGE RAINFALL IS BETWEEN 200 and 400 MILIMETERS\n",
    "get_ipython().run_line_magic('sql', 'select City, Country,Season,Rainfall_mm from Rain where Rainfall_mm between 200 and 400;')"
   ]
  },
  {
   "cell_type": "code",
   "execution_count": 182,
   "metadata": {},
   "outputs": [
    {
     "name": "stdout",
     "output_type": "stream",
     "text": [
      " * sqlite://\n",
      "Done.\n"
     ]
    },
    {
     "data": {
      "text/html": [
       "<table>\n",
       "    <tr>\n",
       "        <th>City</th>\n",
       "        <th>Country</th>\n",
       "    </tr>\n",
       "    <tr>\n",
       "        <td>Cairo</td>\n",
       "        <td>Eqypt</td>\n",
       "    </tr>\n",
       "    <tr>\n",
       "        <td>Mumbai</td>\n",
       "        <td>India</td>\n",
       "    </tr>\n",
       "</table>"
      ],
      "text/plain": [
       "[('Cairo', 'Eqypt'), ('Mumbai', 'India')]"
      ]
     },
     "execution_count": 182,
     "metadata": {},
     "output_type": "execute_result"
    }
   ],
   "source": [
    "#ASCENDING LIST OF CITIES AND COUNTRIES HAVING AVERAGE FALL TEMPERATURE ABOVE 20 DEGREES\n",
    "get_ipython().run_line_magic('sql', \"select City, Country from Rain where Season = 'Fall' and Temperature_C > 20 order by Temperature_C;\")"
   ]
  },
  {
   "cell_type": "code",
   "execution_count": 163,
   "metadata": {},
   "outputs": [
    {
     "name": "stdout",
     "output_type": "stream",
     "text": [
      " * sqlite://\n",
      "Done.\n"
     ]
    },
    {
     "data": {
      "text/html": [
       "<table>\n",
       "    <tr>\n",
       "        <th>sum(Rainfall_mm)</th>\n",
       "    </tr>\n",
       "    <tr>\n",
       "        <td>27.6</td>\n",
       "    </tr>\n",
       "</table>"
      ],
      "text/plain": [
       "[(27.6,)]"
      ]
     },
     "execution_count": 163,
     "metadata": {},
     "output_type": "execute_result"
    }
   ],
   "source": [
    "# LISTING ANNUAL TOTAL RAINFALL OF CAIRO\n",
    "get_ipython().run_line_magic('sql', \"select sum(Rainfall_mm) from Rain where City = 'Cairo';\") "
   ]
  },
  {
   "cell_type": "code",
   "execution_count": 164,
   "metadata": {},
   "outputs": [
    {
     "name": "stdout",
     "output_type": "stream",
     "text": [
      " * sqlite://\n",
      "Done.\n"
     ]
    },
    {
     "data": {
      "text/html": [
       "<table>\n",
       "    <tr>\n",
       "        <th>Season</th>\n",
       "        <th>sum(Rainfall_mm)</th>\n",
       "    </tr>\n",
       "    <tr>\n",
       "        <td>Fall</td>\n",
       "        <td>569.0</td>\n",
       "    </tr>\n",
       "    <tr>\n",
       "        <td>Spring</td>\n",
       "        <td>192.29999999999998</td>\n",
       "    </tr>\n",
       "    <tr>\n",
       "        <td>Summer</td>\n",
       "        <td>1706.5</td>\n",
       "    </tr>\n",
       "    <tr>\n",
       "        <td>Winter</td>\n",
       "        <td>230.1</td>\n",
       "    </tr>\n",
       "</table>"
      ],
      "text/plain": [
       "[('Fall', 569.0),\n",
       " ('Spring', 192.29999999999998),\n",
       " ('Summer', 1706.5),\n",
       " ('Winter', 230.1)]"
      ]
     },
     "execution_count": 164,
     "metadata": {},
     "output_type": "execute_result"
    }
   ],
   "source": [
    "#LIST OF TOTAL RAINFALL FOR EACH SEASON\n",
    "get_ipython().run_line_magic('sql', 'select Season, sum(Rainfall_mm) from Rain group by Season;') "
   ]
  },
  {
   "cell_type": "markdown",
   "metadata": {},
   "source": [
    "## Question 10\n",
    "Suppose list words is defined as follows:\n",
    "words = ['The', 'quick', 'brown', 'fox', 'jumps', 'over', 'the', 'lazy', 'dog']\n",
    "Write list comprehension expressions that use list words and generate the following lists:"
   ]
  },
  {
   "cell_type": "code",
   "execution_count": 165,
   "metadata": {},
   "outputs": [],
   "source": [
    "words = ['The', 'quick', 'brown', 'fox', 'jumps', 'over', 'the', 'lazy', 'dog']"
   ]
  },
  {
   "cell_type": "code",
   "execution_count": 166,
   "metadata": {},
   "outputs": [
    {
     "data": {
      "text/plain": [
       "['The', 'quick', 'brown', 'fox', 'jumps', 'over', 'the', 'lazy', 'dog']"
      ]
     },
     "execution_count": 166,
     "metadata": {},
     "output_type": "execute_result"
    }
   ],
   "source": [
    "words #BRINGING THE WORD LIST"
   ]
  },
  {
   "cell_type": "code",
   "execution_count": 167,
   "metadata": {},
   "outputs": [
    {
     "name": "stdout",
     "output_type": "stream",
     "text": [
      "['THE', 'QUICK', 'BROWN', 'FOX', 'JUMPS', 'OVER', 'THE', 'LAZY', 'DOG']\n"
     ]
    }
   ],
   "source": [
    "caps = [word.upper() for word in words] #HERE BRINGING THE LIST IN UPPER CASE\n",
    "print(caps)"
   ]
  },
  {
   "cell_type": "code",
   "execution_count": 168,
   "metadata": {},
   "outputs": [
    {
     "name": "stdout",
     "output_type": "stream",
     "text": [
      "['the', 'quick', 'brown', 'fox', 'jumps', 'over', 'the', 'lazy', 'dog']\n"
     ]
    }
   ],
   "source": [
    "caps = [word.lower() for word in words] #HERE BRIGING THE LIST IN LOWER CASE\n",
    "print(caps)"
   ]
  },
  {
   "cell_type": "code",
   "execution_count": 169,
   "metadata": {},
   "outputs": [
    {
     "name": "stdout",
     "output_type": "stream",
     "text": [
      "[3, 5, 5, 3, 5, 4, 3, 4, 3]\n"
     ]
    }
   ],
   "source": [
    "length = [len(word) for word in words] #HERE BRINGING LENGTH OF EACH WORD FROM THE LIST\n",
    "print(length)"
   ]
  },
  {
   "cell_type": "code",
   "execution_count": 170,
   "metadata": {},
   "outputs": [
    {
     "name": "stdout",
     "output_type": "stream",
     "text": [
      "[['THE', 'the', 3], ['QUICK', 'quick', 5], ['BROWN', 'brown', 5], ['FOX', 'fox', 3], ['JUMPS', 'jumps', 5], ['OVER', 'over', 4], ['THE', 'the', 3], ['LAZY', 'lazy', 4], ['DOG', 'dog', 3]]\n"
     ]
    }
   ],
   "source": [
    "LowerUpperLen = [[w.upper(), w.lower() , len(w)] for w in words] # HERE BRINGING THE LIST OF WORDS WITH UPPER CASE, LOWER CASE AND ITS LENGTH\n",
    "print(LowerUpperLen)"
   ]
  },
  {
   "cell_type": "code",
   "execution_count": 171,
   "metadata": {},
   "outputs": [
    {
     "name": "stdout",
     "output_type": "stream",
     "text": [
      "['quick', 'brown', 'jumps', 'over', 'lazy']\n"
     ]
    }
   ],
   "source": [
    "FourChar = [w for w in words if len(w) > 3] #HERE BRING THE LIST OF WORDS HAVING MORE THAN 4 WORDS\n",
    "print(FourChar)"
   ]
  },
  {
   "cell_type": "code",
   "execution_count": null,
   "metadata": {},
   "outputs": [],
   "source": []
  }
 ],
 "metadata": {
  "kernelspec": {
   "display_name": "Python 3",
   "language": "python",
   "name": "python3"
  },
  "language_info": {
   "codemirror_mode": {
    "name": "ipython",
    "version": 3
   },
   "file_extension": ".py",
   "mimetype": "text/x-python",
   "name": "python",
   "nbconvert_exporter": "python",
   "pygments_lexer": "ipython3",
   "version": "3.8.3"
  }
 },
 "nbformat": 4,
 "nbformat_minor": 4
}
